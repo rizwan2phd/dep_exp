{
 "cells": [
  {
   "cell_type": "code",
   "execution_count": 1,
   "id": "fbd091b0",
   "metadata": {},
   "outputs": [],
   "source": [
    "import pandas as pd\n",
    "import ktrain\n",
    "from ktrain import text\n",
    "from sklearn.metrics import ConfusionMatrixDisplay\n",
    "from sklearn.metrics import confusion_matrix\n",
    "import matplotlib.pyplot as plt\n",
    "import numpy as np\n",
    "import disarray\n",
    "\n",
    "%reload_ext autoreload\n",
    "%autoreload 2\n",
    "%matplotlib inline\n",
    "import os\n",
    "os.environ[\"CUDA_DEVICE_ORDER\"]=\"PCI_BUS_ID\";\n",
    "os.environ[\"CUDA_VISIBLE_DEVICES\"]=\"0\"; "
   ]
  },
  {
   "cell_type": "code",
   "execution_count": null,
   "id": "9678c064",
   "metadata": {},
   "outputs": [],
   "source": []
  },
  {
   "cell_type": "code",
   "execution_count": 2,
   "id": "56d8b2b6",
   "metadata": {},
   "outputs": [
    {
     "name": "stdout",
     "output_type": "stream",
     "text": [
      "detected encoding: utf-8 (if wrong, set manually)\n",
      "['severe', 'moderate', 'mild']\n",
      "   severe  moderate  mild\n",
      "0     0.0       1.0   0.0\n",
      "1     0.0       1.0   0.0\n",
      "2     0.0       1.0   0.0\n",
      "3     0.0       0.0   1.0\n",
      "4     0.0       1.0   0.0\n",
      "['severe', 'moderate', 'mild']\n",
      "   severe  moderate  mild\n",
      "0     0.0       0.0   1.0\n",
      "1     0.0       1.0   0.0\n",
      "2     0.0       0.0   1.0\n",
      "3     0.0       0.0   1.0\n",
      "4     0.0       1.0   0.0\n",
      "language: en\n",
      "Word Counts: 33286\n",
      "Nrows: 58684\n",
      "58684 train sequences\n",
      "train sequence lengths:\n",
      "\tmean : 21\n",
      "\t95percentile : 43\n",
      "\t99percentile : 49\n",
      "Adding 2-gram features\n",
      "max_features changed to 362640 with addition of ngrams\n",
      "Average train sequence length with ngrams: 41\n",
      "train (w/ngrams) sequence lengths:\n",
      "\tmean : 41\n",
      "\t95percentile : 85\n",
      "\t99percentile : 97\n",
      "x_train shape: (58684,70)\n",
      "y_train shape: (58684, 3)\n",
      "Is Multi-Label? False\n",
      "14671 test sequences\n",
      "test sequence lengths:\n",
      "\tmean : 21\n",
      "\t95percentile : 42\n",
      "\t99percentile : 48\n",
      "Average test sequence length with ngrams: 37\n",
      "test (w/ngrams) sequence lengths:\n",
      "\tmean : 37\n",
      "\t95percentile : 76\n",
      "\t99percentile : 90\n",
      "x_test shape: (14671,70)\n",
      "y_test shape: (14671, 3)\n"
     ]
    }
   ],
   "source": [
    "DATA_PATH = 'Reg_train_dep_prepro_one_encode.csv'\n",
    "NUM_WORDS = 50000\n",
    "MAXLEN = 70\n",
    "(x_train, y_train), (x_test, y_test), preproc = text.texts_from_csv(DATA_PATH,\n",
    "                      'text_cleaned',\n",
    "                      label_columns = [\"severe\", \"moderate\", \"mild\"],\n",
    "                      val_filepath=\"Reg_test_dep_prepro_one_encode.csv\", # if None, 10% of data will be used for validation\n",
    "                      max_features=NUM_WORDS, maxlen=MAXLEN,\n",
    "                      ngram_range=2)"
   ]
  },
  {
   "cell_type": "code",
   "execution_count": 3,
   "id": "53d8f831",
   "metadata": {},
   "outputs": [
    {
     "name": "stdout",
     "output_type": "stream",
     "text": [
      "Is Multi-Label? False\n",
      "compiling word ID features...\n",
      "maxlen is 70\n",
      "done.\n"
     ]
    }
   ],
   "source": [
    "model = text.text_classifier('fasttext', (x_train, y_train), preproc=preproc)\n",
    "learner = ktrain.get_learner(model, train_data=(x_train, y_train), val_data=(x_test, y_test))"
   ]
  },
  {
   "cell_type": "code",
   "execution_count": 4,
   "id": "1143bbd9",
   "metadata": {},
   "outputs": [
    {
     "name": "stdout",
     "output_type": "stream",
     "text": [
      "simulating training for different learning rates... this may take a few moments...\n",
      "Epoch 1/1024\n",
      "1834/1834 [==============================] - 219s 118ms/step - loss: 3.4529 - accuracy: 0.3980\n",
      "Epoch 2/1024\n",
      "1834/1834 [==============================] - 2s 1ms/step - loss: 1.7651 - accuracy: 0.3385\n",
      "\n",
      "\n",
      "done.\n",
      "Please invoke the Learner.lr_plot() method to visually inspect the loss plot to help identify the maximal learning rate associated with falling loss.\n"
     ]
    },
    {
     "data": {
      "image/png": "[encoded data removed]",
      "text/plain": [
       "<Figure size 432x288 with 1 Axes>"
      ]
     },
     "metadata": {
      "needs_background": "light"
     },
     "output_type": "display_data"
    }
   ],
   "source": [
    "learner.lr_find()\n",
    "learner.lr_plot()"
   ]
  },
  {
   "cell_type": "code",
   "execution_count": 5,
   "id": "b7c44ccd",
   "metadata": {},
   "outputs": [
    {
     "name": "stdout",
     "output_type": "stream",
     "text": [
      "early_stopping automatically enabled at patience=5\n",
      "reduce_on_plateau automatically enabled at patience=2\n",
      "\n",
      "\n",
      "begin training using triangular learning rate policy with max lr of 0.01...\n",
      "Epoch 1/1024\n",
      "1834/1834 [==============================] - 219s 119ms/step - loss: 0.7956 - accuracy: 0.6313 - val_loss: 0.5208 - val_accuracy: 0.7831\n",
      "Epoch 2/1024\n",
      "1834/1834 [==============================] - 217s 118ms/step - loss: 0.5490 - accuracy: 0.7688 - val_loss: 0.4620 - val_accuracy: 0.8125\n",
      "Epoch 3/1024\n",
      "1834/1834 [==============================] - 217s 118ms/step - loss: 0.4587 - accuracy: 0.8155 - val_loss: 0.4502 - val_accuracy: 0.8177\n",
      "Epoch 4/1024\n",
      "1834/1834 [==============================] - 217s 118ms/step - loss: 0.3947 - accuracy: 0.8455 - val_loss: 0.4426 - val_accuracy: 0.8254\n",
      "Epoch 5/1024\n",
      "1834/1834 [==============================] - 219s 120ms/step - loss: 0.3370 - accuracy: 0.8707 - val_loss: 0.4694 - val_accuracy: 0.8286\n",
      "Epoch 6/1024\n",
      "1834/1834 [==============================] - ETA: 0s - loss: 0.3028 - accuracy: 0.8874\n",
      "Epoch 00006: Reducing Max LR on Plateau: new max lr will be 0.005 (if not early_stopping).\n",
      "1834/1834 [==============================] - 217s 119ms/step - loss: 0.3028 - accuracy: 0.8874 - val_loss: 0.4728 - val_accuracy: 0.8268\n",
      "Epoch 7/1024\n",
      "1834/1834 [==============================] - 219s 119ms/step - loss: 0.2425 - accuracy: 0.9100 - val_loss: 0.4873 - val_accuracy: 0.8311\n",
      "Epoch 8/1024\n",
      "1834/1834 [==============================] - ETA: 0s - loss: 0.2125 - accuracy: 0.9239\n",
      "Epoch 00008: Reducing Max LR on Plateau: new max lr will be 0.0025 (if not early_stopping).\n",
      "1834/1834 [==============================] - 224s 122ms/step - loss: 0.2125 - accuracy: 0.9239 - val_loss: 0.5093 - val_accuracy: 0.8314\n",
      "Epoch 9/1024\n",
      "1834/1834 [==============================] - ETA: 0s - loss: 0.1745 - accuracy: 0.9387Restoring model weights from the end of the best epoch: 4.\n",
      "1834/1834 [==============================] - 220s 120ms/step - loss: 0.1745 - accuracy: 0.9387 - val_loss: 0.5397 - val_accuracy: 0.8318\n",
      "Epoch 9: early stopping\n",
      "Weights from best epoch have been loaded into model.\n"
     ]
    },
    {
     "data": {
      "text/plain": [
       "<keras.callbacks.History at 0x1dd2dc9c9d0>"
      ]
     },
     "execution_count": 5,
     "metadata": {},
     "output_type": "execute_result"
    }
   ],
   "source": [
    "learner.autofit(0.01)"
   ]
  },
  {
   "cell_type": "code",
   "execution_count": 6,
   "id": "3e19a0b3",
   "metadata": {},
   "outputs": [
    {
     "name": "stdout",
     "output_type": "stream",
     "text": [
      "              precision    recall  f1-score   support\n",
      "\n",
      "      severe       0.85      0.74      0.79      3065\n",
      "    moderate       0.77      0.83      0.80      5621\n",
      "        mild       0.87      0.86      0.87      5985\n",
      "\n",
      "    accuracy                           0.83     14671\n",
      "   macro avg       0.83      0.81      0.82     14671\n",
      "weighted avg       0.83      0.83      0.83     14671\n",
      "\n"
     ]
    },
    {
     "data": {
      "text/plain": [
       "array([[2265,  662,  138],\n",
       "       [ 312, 4687,  622],\n",
       "       [  84,  744, 5157]], dtype=int64)"
      ]
     },
     "execution_count": 6,
     "metadata": {},
     "output_type": "execute_result"
    }
   ],
   "source": [
    "learner.validate(class_names=preproc.get_classes())"
   ]
  },
  {
   "cell_type": "code",
   "execution_count": 7,
   "id": "027633a1",
   "metadata": {},
   "outputs": [
    {
     "data": {
      "image/png": "[encoded data removed]",
      "text/plain": [
       "<Figure size 432x288 with 2 Axes>"
      ]
     },
     "metadata": {
      "needs_background": "light"
     },
     "output_type": "display_data"
    }
   ],
   "source": [
    "labels = [\"Severe\", \"Moderate\", \"Mild\"]\n",
    "\n",
    "cm = np.array([[2265,  662,  138],\n",
    "       [ 312, 4687,  622],\n",
    "       [  84,  744, 5157]])\n",
    "disp = ConfusionMatrixDisplay(confusion_matrix=cm, display_labels=labels)\n",
    "\n",
    "disp.plot(cmap=plt.cm.Blues)\n",
    "plt.show()"
   ]
  },
  {
   "cell_type": "code",
   "execution_count": 8,
   "id": "ad8df9d8",
   "metadata": {},
   "outputs": [
    {
     "data": {
      "text/html": [
       "<div>\n",
       "<style scoped>\n",
       "    .dataframe tbody tr th:only-of-type {\n",
       "        vertical-align: middle;\n",
       "    }\n",
       "\n",
       "    .dataframe tbody tr th {\n",
       "        vertical-align: top;\n",
       "    }\n",
       "\n",
       "    .dataframe thead th {\n",
       "        text-align: right;\n",
       "    }\n",
       "</style>\n",
       "<table border=\"1\" class=\"dataframe\">\n",
       "  <thead>\n",
       "    <tr style=\"text-align: right;\">\n",
       "      <th></th>\n",
       "      <th>s</th>\n",
       "      <th>m</th>\n",
       "      <th>mi</th>\n",
       "      <th>micro-average</th>\n",
       "    </tr>\n",
       "  </thead>\n",
       "  <tbody>\n",
       "    <tr>\n",
       "      <th>accuracy</th>\n",
       "      <td>0.918</td>\n",
       "      <td>0.841</td>\n",
       "      <td>0.892</td>\n",
       "      <td>0.884</td>\n",
       "    </tr>\n",
       "    <tr>\n",
       "      <th>f1</th>\n",
       "      <td>0.791</td>\n",
       "      <td>0.800</td>\n",
       "      <td>0.867</td>\n",
       "      <td>0.825</td>\n",
       "    </tr>\n",
       "    <tr>\n",
       "      <th>false_discovery_rate</th>\n",
       "      <td>0.149</td>\n",
       "      <td>0.231</td>\n",
       "      <td>0.128</td>\n",
       "      <td>0.175</td>\n",
       "    </tr>\n",
       "    <tr>\n",
       "      <th>false_negative_rate</th>\n",
       "      <td>0.261</td>\n",
       "      <td>0.166</td>\n",
       "      <td>0.138</td>\n",
       "      <td>0.175</td>\n",
       "    </tr>\n",
       "    <tr>\n",
       "      <th>false_positive_rate</th>\n",
       "      <td>0.034</td>\n",
       "      <td>0.155</td>\n",
       "      <td>0.087</td>\n",
       "      <td>0.087</td>\n",
       "    </tr>\n",
       "    <tr>\n",
       "      <th>negative_predictive_value</th>\n",
       "      <td>0.933</td>\n",
       "      <td>0.891</td>\n",
       "      <td>0.905</td>\n",
       "      <td>0.913</td>\n",
       "    </tr>\n",
       "    <tr>\n",
       "      <th>positive_predictive_value</th>\n",
       "      <td>0.851</td>\n",
       "      <td>0.769</td>\n",
       "      <td>0.872</td>\n",
       "      <td>0.825</td>\n",
       "    </tr>\n",
       "    <tr>\n",
       "      <th>precision</th>\n",
       "      <td>0.851</td>\n",
       "      <td>0.769</td>\n",
       "      <td>0.872</td>\n",
       "      <td>0.825</td>\n",
       "    </tr>\n",
       "    <tr>\n",
       "      <th>recall</th>\n",
       "      <td>0.739</td>\n",
       "      <td>0.834</td>\n",
       "      <td>0.862</td>\n",
       "      <td>0.825</td>\n",
       "    </tr>\n",
       "    <tr>\n",
       "      <th>sensitivity</th>\n",
       "      <td>0.739</td>\n",
       "      <td>0.834</td>\n",
       "      <td>0.862</td>\n",
       "      <td>0.825</td>\n",
       "    </tr>\n",
       "    <tr>\n",
       "      <th>specificity</th>\n",
       "      <td>0.966</td>\n",
       "      <td>0.845</td>\n",
       "      <td>0.913</td>\n",
       "      <td>0.913</td>\n",
       "    </tr>\n",
       "    <tr>\n",
       "      <th>true_negative_rate</th>\n",
       "      <td>0.966</td>\n",
       "      <td>0.845</td>\n",
       "      <td>0.913</td>\n",
       "      <td>0.913</td>\n",
       "    </tr>\n",
       "    <tr>\n",
       "      <th>true_positive_rate</th>\n",
       "      <td>0.739</td>\n",
       "      <td>0.834</td>\n",
       "      <td>0.862</td>\n",
       "      <td>0.825</td>\n",
       "    </tr>\n",
       "  </tbody>\n",
       "</table>\n",
       "</div>"
      ],
      "text/plain": [
       "                               s      m     mi  micro-average\n",
       "accuracy                   0.918  0.841  0.892          0.884\n",
       "f1                         0.791  0.800  0.867          0.825\n",
       "false_discovery_rate       0.149  0.231  0.128          0.175\n",
       "false_negative_rate        0.261  0.166  0.138          0.175\n",
       "false_positive_rate        0.034  0.155  0.087          0.087\n",
       "negative_predictive_value  0.933  0.891  0.905          0.913\n",
       "positive_predictive_value  0.851  0.769  0.872          0.825\n",
       "precision                  0.851  0.769  0.872          0.825\n",
       "recall                     0.739  0.834  0.862          0.825\n",
       "sensitivity                0.739  0.834  0.862          0.825\n",
       "specificity                0.966  0.845  0.913          0.913\n",
       "true_negative_rate         0.966  0.845  0.913          0.913\n",
       "true_positive_rate         0.739  0.834  0.862          0.825"
      ]
     },
     "execution_count": 8,
     "metadata": {},
     "output_type": "execute_result"
    }
   ],
   "source": [
    "\n",
    "dfmetric = pd.DataFrame(cm, index= [\"s\", \"m\", \"mi\"], columns=[\"s\", \"m\", \"mi\"])\n",
    "round(dfmetric.da.export_metrics(), 3)"
   ]
  },
  {
   "cell_type": "code",
   "execution_count": 9,
   "id": "628208ce",
   "metadata": {},
   "outputs": [
    {
     "data": {
      "image/png": "[encoded data removed]",
      "text/plain": [
       "<Figure size 432x288 with 1 Axes>"
      ]
     },
     "metadata": {
      "needs_background": "light"
     },
     "output_type": "display_data"
    }
   ],
   "source": [
    "learner.plot(\"loss\")"
   ]
  },
  {
   "cell_type": "code",
   "execution_count": 10,
   "id": "91b19709",
   "metadata": {},
   "outputs": [
    {
     "data": {
      "image/png": "[encoded data removed]",
      "text/plain": [
       "<Figure size 432x288 with 1 Axes>"
      ]
     },
     "metadata": {
      "needs_background": "light"
     },
     "output_type": "display_data"
    }
   ],
   "source": [
    "learner.plot(\"accuracy\")"
   ]
  },
  {
   "cell_type": "code",
   "execution_count": 11,
   "id": "ca9d096a",
   "metadata": {},
   "outputs": [
    {
     "name": "stdout",
     "output_type": "stream",
     "text": [
      "Model: \"sequential\"\n",
      "_________________________________________________________________\n",
      " Layer (type)                Output Shape              Param #   \n",
      "=================================================================\n",
      " embedding (Embedding)       (None, 70, 64)            23208960  \n",
      "                                                                 \n",
      " spatial_dropout1d (SpatialD  (None, 70, 64)           0         \n",
      " ropout1D)                                                       \n",
      "                                                                 \n",
      " global_max_pooling1d (Globa  (None, 64)               0         \n",
      " lMaxPooling1D)                                                  \n",
      "                                                                 \n",
      " batch_normalization (BatchN  (None, 64)               256       \n",
      " ormalization)                                                   \n",
      "                                                                 \n",
      " dense (Dense)               (None, 64)                4160      \n",
      "                                                                 \n",
      " dropout (Dropout)           (None, 64)                0         \n",
      "                                                                 \n",
      " dense_1 (Dense)             (None, 3)                 195       \n",
      "                                                                 \n",
      "=================================================================\n",
      "Total params: 23,213,571\n",
      "Trainable params: 23,213,443\n",
      "Non-trainable params: 128\n",
      "_________________________________________________________________\n"
     ]
    }
   ],
   "source": [
    "model.summary()"
   ]
  },
  {
   "cell_type": "code",
   "execution_count": 2,
   "id": "4bbc441d",
   "metadata": {},
   "outputs": [],
   "source": [
    "\n",
    "df[[\"text_cleaned\", \"label\"]].to_csv(\"Reg_final_annotation_dep.csv\", header=True, index=False, encoding='utf-8')"
   ]
  }
 ],
 "metadata": {
  "kernelspec": {
   "display_name": "Python 3 (ipykernel)",
   "language": "python",
   "name": "python3"
  },
  "language_info": {
   "codemirror_mode": {
    "name": "ipython",
    "version": 3
   },
   "file_extension": ".py",
   "mimetype": "text/x-python",
   "name": "python",
   "nbconvert_exporter": "python",
   "pygments_lexer": "ipython3",
   "version": "3.9.7"
  }
 },
 "nbformat": 4,
 "nbformat_minor": 5
}
