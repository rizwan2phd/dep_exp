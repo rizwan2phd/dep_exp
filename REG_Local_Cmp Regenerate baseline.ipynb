{
 "cells": [
  {
   "cell_type": "code",
   "execution_count": 1,
   "id": "5cc14b69",
   "metadata": {
    "scrolled": true
   },
   "outputs": [
    {
     "name": "stderr",
     "output_type": "stream",
     "text": [
      "C:\\Users\\mrizwan\\AppData\\Local\\Temp\\ipykernel_7104\\923739191.py:2: FutureWarning: Passing a negative integer is deprecated in version 1.0 and will not be supported in future version. Instead, use None to not limit the column width.\n",
      "  pd.set_option('display.max_colwidth', -1)\n"
     ]
    },
    {
     "data": {
      "text/html": [
       "<div>\n",
       "<style scoped>\n",
       "    .dataframe tbody tr th:only-of-type {\n",
       "        vertical-align: middle;\n",
       "    }\n",
       "\n",
       "    .dataframe tbody tr th {\n",
       "        vertical-align: top;\n",
       "    }\n",
       "\n",
       "    .dataframe thead th {\n",
       "        text-align: right;\n",
       "    }\n",
       "</style>\n",
       "<table border=\"1\" class=\"dataframe\">\n",
       "  <thead>\n",
       "    <tr style=\"text-align: right;\">\n",
       "      <th></th>\n",
       "      <th>text_cleaned</th>\n",
       "      <th>polarity</th>\n",
       "      <th>subjectivity</th>\n",
       "    </tr>\n",
       "  </thead>\n",
       "  <tbody>\n",
       "    <tr>\n",
       "      <th>0</th>\n",
       "      <td>Happy New Year all hope you have a great year and know you're not alone</td>\n",
       "      <td>0.578788</td>\n",
       "      <td>0.734848</td>\n",
       "    </tr>\n",
       "    <tr>\n",
       "      <th>1</th>\n",
       "      <td>Speak life into your kids, so they will have what it takes to tackle their own life one day. &lt;3</td>\n",
       "      <td>0.800000</td>\n",
       "      <td>1.000000</td>\n",
       "    </tr>\n",
       "    <tr>\n",
       "      <th>2</th>\n",
       "      <td>FIVE hours remain! 5) Watch out for signs of and don't delay getting professional help when you need it.</td>\n",
       "      <td>0.100000</td>\n",
       "      <td>0.100000</td>\n",
       "    </tr>\n",
       "    <tr>\n",
       "      <th>3</th>\n",
       "      <td>Living with Depression? Read This ~~&gt; and reTweet please</td>\n",
       "      <td>0.000000</td>\n",
       "      <td>0.000000</td>\n",
       "    </tr>\n",
       "    <tr>\n",
       "      <th>4</th>\n",
       "      <td>Ready to get rid of distractions and have an easier time focusing? You can through the Emerging Sensitive Program at Sensitive Evolution! Check out the details here:</td>\n",
       "      <td>0.231250</td>\n",
       "      <td>0.725000</td>\n",
       "    </tr>\n",
       "    <tr>\n",
       "      <th>...</th>\n",
       "      <td>...</td>\n",
       "      <td>...</td>\n",
       "      <td>...</td>\n",
       "    </tr>\n",
       "    <tr>\n",
       "      <th>210614</th>\n",
       "      <td>Have you heard Depression (Produced by D-MIC PRODUCTIONS) by Bongo on SoundCloud? ://</td>\n",
       "      <td>0.000000</td>\n",
       "      <td>0.000000</td>\n",
       "    </tr>\n",
       "    <tr>\n",
       "      <th>210615</th>\n",
       "      <td>Our dog Loki but 24/7</td>\n",
       "      <td>0.500000</td>\n",
       "      <td>0.600000</td>\n",
       "    </tr>\n",
       "    <tr>\n",
       "      <th>210616</th>\n",
       "      <td>Article in press in \" as a predictor of long-term outcomes among individuals with moderate-to-severe traumatic \" ://</td>\n",
       "      <td>0.000000</td>\n",
       "      <td>0.000000</td>\n",
       "    </tr>\n",
       "    <tr>\n",
       "      <th>210617</th>\n",
       "      <td>I'll for you, you pray for me. Matthew 18:19-20 reads it's better with two or three. Pray our loved ones say YES to and they will bend their knee. Pray they get honest &amp; realize truth sets them free!</td>\n",
       "      <td>0.600000</td>\n",
       "      <td>0.733333</td>\n",
       "    </tr>\n",
       "    <tr>\n",
       "      <th>210618</th>\n",
       "      <td>What Ive learnt about : its ok to be depressed. Life will naturally pick me up. And it is during those good days that I have to put my best effort in creating so I have something to pick me up when Im down again.</td>\n",
       "      <td>0.428889</td>\n",
       "      <td>0.417778</td>\n",
       "    </tr>\n",
       "  </tbody>\n",
       "</table>\n",
       "<p>210619 rows × 3 columns</p>\n",
       "</div>"
      ],
      "text/plain": [
       "                                                                                                                                                                                                                text_cleaned  \\\n",
       "0       Happy New Year all hope you have a great year and know you're not alone                                                                                                                                                \n",
       "1       Speak life into your kids, so they will have what it takes to tackle their own life one day. <3                                                                                                                        \n",
       "2       FIVE hours remain! 5) Watch out for signs of and don't delay getting professional help when you need it.                                                                                                               \n",
       "3       Living with Depression? Read This ~~> and reTweet please                                                                                                                                                               \n",
       "4       Ready to get rid of distractions and have an easier time focusing? You can through the Emerging Sensitive Program at Sensitive Evolution! Check out the details here:                                                  \n",
       "...                                                                                                                                                                       ...                                                  \n",
       "210614  Have you heard Depression (Produced by D-MIC PRODUCTIONS) by Bongo on SoundCloud? ://                                                                                                                                  \n",
       "210615  Our dog Loki but 24/7                                                                                                                                                                                                  \n",
       "210616  Article in press in \" as a predictor of long-term outcomes among individuals with moderate-to-severe traumatic \" ://                                                                                                   \n",
       "210617  I'll for you, you pray for me. Matthew 18:19-20 reads it's better with two or three. Pray our loved ones say YES to and they will bend their knee. Pray they get honest & realize truth sets them free!                \n",
       "210618  What Ive learnt about : its ok to be depressed. Life will naturally pick me up. And it is during those good days that I have to put my best effort in creating so I have something to pick me up when Im down again.   \n",
       "\n",
       "        polarity  subjectivity  \n",
       "0       0.578788  0.734848      \n",
       "1       0.800000  1.000000      \n",
       "2       0.100000  0.100000      \n",
       "3       0.000000  0.000000      \n",
       "4       0.231250  0.725000      \n",
       "...          ...       ...      \n",
       "210614  0.000000  0.000000      \n",
       "210615  0.500000  0.600000      \n",
       "210616  0.000000  0.000000      \n",
       "210617  0.600000  0.733333      \n",
       "210618  0.428889  0.417778      \n",
       "\n",
       "[210619 rows x 3 columns]"
      ]
     },
     "execution_count": 1,
     "metadata": {},
     "output_type": "execute_result"
    }
   ],
   "source": [
    "import pandas as pd\n",
    "pd.set_option('display.max_colwidth', -1)\n",
    "df =pd.read_csv(\"alldata_tclean_pol_sub.csv\")\n",
    "df"
   ]
  },
  {
   "cell_type": "code",
   "execution_count": 3,
   "id": "e2575e41",
   "metadata": {},
   "outputs": [
    {
     "name": "stdout",
     "output_type": "stream",
     "text": [
      "<class 'pandas.core.frame.DataFrame'>\n",
      "Int64Index: 73368 entries, 0 to 210617\n",
      "Data columns (total 3 columns):\n",
      " #   Column        Non-Null Count  Dtype  \n",
      "---  ------        --------------  -----  \n",
      " 0   text_cleaned  73355 non-null  object \n",
      " 1   polarity      73368 non-null  float64\n",
      " 2   subjectivity  73368 non-null  float64\n",
      "dtypes: float64(2), object(1)\n",
      "memory usage: 2.2+ MB\n"
     ]
    }
   ],
   "source": [
    "df = df[df[\"subjectivity\"]> 0.5]\n",
    "df.info()"
   ]
  },
  {
   "cell_type": "code",
   "execution_count": 4,
   "id": "4bca6a25",
   "metadata": {},
   "outputs": [
    {
     "data": {
      "text/html": [
       "<div>\n",
       "<style scoped>\n",
       "    .dataframe tbody tr th:only-of-type {\n",
       "        vertical-align: middle;\n",
       "    }\n",
       "\n",
       "    .dataframe tbody tr th {\n",
       "        vertical-align: top;\n",
       "    }\n",
       "\n",
       "    .dataframe thead th {\n",
       "        text-align: right;\n",
       "    }\n",
       "</style>\n",
       "<table border=\"1\" class=\"dataframe\">\n",
       "  <thead>\n",
       "    <tr style=\"text-align: right;\">\n",
       "      <th></th>\n",
       "      <th>text_cleaned</th>\n",
       "      <th>polarity</th>\n",
       "      <th>subjectivity</th>\n",
       "    </tr>\n",
       "  </thead>\n",
       "  <tbody>\n",
       "    <tr>\n",
       "      <th>203022</th>\n",
       "      <td>Just a reminder, depression is a terrible illness and someone you care about is secretly suffering from it</td>\n",
       "      <td>-0.700000</td>\n",
       "      <td>0.850000</td>\n",
       "    </tr>\n",
       "    <tr>\n",
       "      <th>153777</th>\n",
       "      <td>All in all; being alive is still better than dying. You MUST love yourself enough to be alive: while you are at it, live a fulfilling and purposeful lifeGod bless you...</td>\n",
       "      <td>0.248052</td>\n",
       "      <td>0.514286</td>\n",
       "    </tr>\n",
       "    <tr>\n",
       "      <th>9713</th>\n",
       "      <td>What are you of ? is a and it causes .. is telling you to and take over!! Pick up your</td>\n",
       "      <td>-0.937500</td>\n",
       "      <td>0.900000</td>\n",
       "    </tr>\n",
       "    <tr>\n",
       "      <th>97829</th>\n",
       "      <td>Hang in there! The world is messed up, that is why it needs YOU! Get well and help others. It is not an easy road but it gives life meaning! I,ve lived it. 4 decades of . Now making a difference. Grab on to something to give you hope!</td>\n",
       "      <td>0.677083</td>\n",
       "      <td>0.833333</td>\n",
       "    </tr>\n",
       "    <tr>\n",
       "      <th>89119</th>\n",
       "      <td>Women that work more than 55 hours/week more likely to be depressed than those working 35-40 hours/week, according to a new study. However, men who work equivalent hours no more likely to show signs of . More at :</td>\n",
       "      <td>0.198052</td>\n",
       "      <td>0.636364</td>\n",
       "    </tr>\n",
       "    <tr>\n",
       "      <th>206518</th>\n",
       "      <td>Epidemiological studies show an especially high comorbidity between and . 3% of comorbid addicts in rehab receive treatment only - because most rehabs arent equipped to diagnose or prescribe, dispense, and monitor</td>\n",
       "      <td>0.273333</td>\n",
       "      <td>0.833333</td>\n",
       "    </tr>\n",
       "    <tr>\n",
       "      <th>55822</th>\n",
       "      <td>veru deepu nah jks im just depressed, here ya go</td>\n",
       "      <td>0.000000</td>\n",
       "      <td>1.000000</td>\n",
       "    </tr>\n",
       "    <tr>\n",
       "      <th>74488</th>\n",
       "      <td>The number of sick days taken by UK workers is at an all-time low but thats no cause for celebration.</td>\n",
       "      <td>-0.357143</td>\n",
       "      <td>0.578571</td>\n",
       "    </tr>\n",
       "    <tr>\n",
       "      <th>25556</th>\n",
       "      <td>In this episode of The Naked Truth Movement with , I share my journey of overcoming + to become the successful coach that I am today. Tune in here:</td>\n",
       "      <td>0.375000</td>\n",
       "      <td>0.675000</td>\n",
       "    </tr>\n",
       "    <tr>\n",
       "      <th>9927</th>\n",
       "      <td>Excellent article on an important study: decreased high glycemic reduces : ||</td>\n",
       "      <td>0.290000</td>\n",
       "      <td>0.810000</td>\n",
       "    </tr>\n",
       "  </tbody>\n",
       "</table>\n",
       "</div>"
      ],
      "text/plain": [
       "                                                                                                                                                                                                                                      text_cleaned  \\\n",
       "203022  Just a reminder, depression is a terrible illness and someone you care about is secretly suffering from it                                                                                                                                   \n",
       "153777  All in all; being alive is still better than dying. You MUST love yourself enough to be alive: while you are at it, live a fulfilling and purposeful lifeGod bless you...                                                                    \n",
       "9713    What are you of ? is a and it causes .. is telling you to and take over!! Pick up your                                                                                                                                                       \n",
       "97829   Hang in there! The world is messed up, that is why it needs YOU! Get well and help others. It is not an easy road but it gives life meaning! I,ve lived it. 4 decades of . Now making a difference. Grab on to something to give you hope!   \n",
       "89119   Women that work more than 55 hours/week more likely to be depressed than those working 35-40 hours/week, according to a new study. However, men who work equivalent hours no more likely to show signs of . More at :                        \n",
       "206518  Epidemiological studies show an especially high comorbidity between and . 3% of comorbid addicts in rehab receive treatment only - because most rehabs arent equipped to diagnose or prescribe, dispense, and monitor                        \n",
       "55822   veru deepu nah jks im just depressed, here ya go                                                                                                                                                                                             \n",
       "74488   The number of sick days taken by UK workers is at an all-time low but thats no cause for celebration.                                                                                                                                        \n",
       "25556   In this episode of The Naked Truth Movement with , I share my journey of overcoming + to become the successful coach that I am today. Tune in here:                                                                                          \n",
       "9927    Excellent article on an important study: decreased high glycemic reduces : ||                                                                                                                                                                \n",
       "\n",
       "        polarity  subjectivity  \n",
       "203022 -0.700000  0.850000      \n",
       "153777  0.248052  0.514286      \n",
       "9713   -0.937500  0.900000      \n",
       "97829   0.677083  0.833333      \n",
       "89119   0.198052  0.636364      \n",
       "206518  0.273333  0.833333      \n",
       "55822   0.000000  1.000000      \n",
       "74488  -0.357143  0.578571      \n",
       "25556   0.375000  0.675000      \n",
       "9927    0.290000  0.810000      "
      ]
     },
     "execution_count": 4,
     "metadata": {},
     "output_type": "execute_result"
    }
   ],
   "source": [
    "df.sample(10)"
   ]
  },
  {
   "cell_type": "code",
   "execution_count": 5,
   "id": "8c38371e",
   "metadata": {
    "scrolled": true
   },
   "outputs": [
    {
     "data": {
      "text/plain": [
       "2    29931\n",
       "1    28106\n",
       "0    15331\n",
       "Name: label, dtype: int64"
      ]
     },
     "execution_count": 5,
     "metadata": {},
     "output_type": "execute_result"
    }
   ],
   "source": [
    "def labelingData(row):\n",
    "    if row[\"polarity\"] < -0.1:\n",
    "        return 0\n",
    "    elif row[\"polarity\"] >= -0.1 and row[\"polarity\"] <= 0.3:\n",
    "        return 1\n",
    "    elif row[\"polarity\"] > 0.3:\n",
    "        return 2\n",
    "    \n",
    "df['label'] = df.apply(lambda row: labelingData(row), axis=1)\n",
    "df.label.value_counts()"
   ]
  },
  {
   "cell_type": "code",
   "execution_count": 9,
   "id": "c08564e7",
   "metadata": {},
   "outputs": [
    {
     "data": {
      "text/html": [
       "<div>\n",
       "<style scoped>\n",
       "    .dataframe tbody tr th:only-of-type {\n",
       "        vertical-align: middle;\n",
       "    }\n",
       "\n",
       "    .dataframe tbody tr th {\n",
       "        vertical-align: top;\n",
       "    }\n",
       "\n",
       "    .dataframe thead th {\n",
       "        text-align: right;\n",
       "    }\n",
       "</style>\n",
       "<table border=\"1\" class=\"dataframe\">\n",
       "  <thead>\n",
       "    <tr style=\"text-align: right;\">\n",
       "      <th></th>\n",
       "      <th>text_cleaned</th>\n",
       "      <th>polarity</th>\n",
       "      <th>subjectivity</th>\n",
       "      <th>label</th>\n",
       "    </tr>\n",
       "  </thead>\n",
       "  <tbody>\n",
       "    <tr>\n",
       "      <th>145697</th>\n",
       "      <td>High Temperature Glass and Silicone Hookah Bowl</td>\n",
       "      <td>0.160000</td>\n",
       "      <td>0.540000</td>\n",
       "      <td>1</td>\n",
       "    </tr>\n",
       "    <tr>\n",
       "      <th>74247</th>\n",
       "      <td>Skype Counseling for Overcoming Anxiety and Depression. Inquiries welcome! See:</td>\n",
       "      <td>1.000000</td>\n",
       "      <td>0.900000</td>\n",
       "      <td>2</td>\n",
       "    </tr>\n",
       "    <tr>\n",
       "      <th>12815</th>\n",
       "      <td>The devil whispered in my ear \"youre not strong enough to face this storm\" Today I whispered in the Devils ear I am the storm.</td>\n",
       "      <td>-0.108333</td>\n",
       "      <td>0.616667</td>\n",
       "      <td>0</td>\n",
       "    </tr>\n",
       "    <tr>\n",
       "      <th>134965</th>\n",
       "      <td>Hope your Monday goes well. You are</td>\n",
       "      <td>0.400000</td>\n",
       "      <td>1.000000</td>\n",
       "      <td>2</td>\n",
       "    </tr>\n",
       "    <tr>\n",
       "      <th>171258</th>\n",
       "      <td>I become my own hero as becoming reliant on others is only setting urself to fall again. If you won't help urself then don't expect anyone to do it for you</td>\n",
       "      <td>0.350000</td>\n",
       "      <td>0.950000</td>\n",
       "      <td>2</td>\n",
       "    </tr>\n",
       "    <tr>\n",
       "      <th>210475</th>\n",
       "      <td>Sometimes you just got tired of feeling the pain, and realized one day you don't feel a damn.</td>\n",
       "      <td>-0.400000</td>\n",
       "      <td>0.700000</td>\n",
       "      <td>0</td>\n",
       "    </tr>\n",
       "    <tr>\n",
       "      <th>73614</th>\n",
       "      <td>You Have Depression or Are you Depressed? - LIVE WELL MAGIC</td>\n",
       "      <td>0.318182</td>\n",
       "      <td>0.750000</td>\n",
       "      <td>2</td>\n",
       "    </tr>\n",
       "    <tr>\n",
       "      <th>187176</th>\n",
       "      <td>Someone struggling with shares 8 ways of supporting a loved one who is suffering from this . Find out more:</td>\n",
       "      <td>0.483333</td>\n",
       "      <td>0.516667</td>\n",
       "      <td>2</td>\n",
       "    </tr>\n",
       "    <tr>\n",
       "      <th>146273</th>\n",
       "      <td>Heads UP - Episode 15: Migraine and Depression interviews the Migraine Diva and blogger extraordinaire, Jaime Sanders, about winning in life despite having and .</td>\n",
       "      <td>0.500000</td>\n",
       "      <td>0.750000</td>\n",
       "      <td>2</td>\n",
       "    </tr>\n",
       "    <tr>\n",
       "      <th>66092</th>\n",
       "      <td>Huge rise in paramedics off sick with stress. And more sad news from the front-line ://www.bbc.co.uk/news/uk-scotland-47448363</td>\n",
       "      <td>-0.078571</td>\n",
       "      <td>0.814286</td>\n",
       "      <td>1</td>\n",
       "    </tr>\n",
       "  </tbody>\n",
       "</table>\n",
       "</div>"
      ],
      "text/plain": [
       "                                                                                                                                                             text_cleaned  \\\n",
       "145697  High Temperature Glass and Silicone Hookah Bowl                                                                                                                     \n",
       "74247   Skype Counseling for Overcoming Anxiety and Depression. Inquiries welcome! See:                                                                                     \n",
       "12815   The devil whispered in my ear \"youre not strong enough to face this storm\" Today I whispered in the Devils ear I am the storm.                                      \n",
       "134965  Hope your Monday goes well. You are                                                                                                                                 \n",
       "171258  I become my own hero as becoming reliant on others is only setting urself to fall again. If you won't help urself then don't expect anyone to do it for you         \n",
       "210475  Sometimes you just got tired of feeling the pain, and realized one day you don't feel a damn.                                                                       \n",
       "73614   You Have Depression or Are you Depressed? - LIVE WELL MAGIC                                                                                                         \n",
       "187176  Someone struggling with shares 8 ways of supporting a loved one who is suffering from this . Find out more:                                                         \n",
       "146273  Heads UP - Episode 15: Migraine and Depression interviews the Migraine Diva and blogger extraordinaire, Jaime Sanders, about winning in life despite having and .   \n",
       "66092   Huge rise in paramedics off sick with stress. And more sad news from the front-line ://www.bbc.co.uk/news/uk-scotland-47448363                                      \n",
       "\n",
       "        polarity  subjectivity  label  \n",
       "145697  0.160000  0.540000      1      \n",
       "74247   1.000000  0.900000      2      \n",
       "12815  -0.108333  0.616667      0      \n",
       "134965  0.400000  1.000000      2      \n",
       "171258  0.350000  0.950000      2      \n",
       "210475 -0.400000  0.700000      0      \n",
       "73614   0.318182  0.750000      2      \n",
       "187176  0.483333  0.516667      2      \n",
       "146273  0.500000  0.750000      2      \n",
       "66092  -0.078571  0.814286      1      "
      ]
     },
     "execution_count": 9,
     "metadata": {},
     "output_type": "execute_result"
    }
   ],
   "source": [
    "df.sample(10)"
   ]
  },
  {
   "cell_type": "code",
   "execution_count": 26,
   "id": "3eecb8ac",
   "metadata": {},
   "outputs": [
    {
     "name": "stdout",
     "output_type": "stream",
     "text": [
      "<class 'pandas.core.frame.DataFrame'>\n",
      "Int64Index: 73355 entries, 0 to 210617\n",
      "Data columns (total 2 columns):\n",
      " #   Column        Non-Null Count  Dtype \n",
      "---  ------        --------------  ----- \n",
      " 0   text_cleaned  73355 non-null  object\n",
      " 1   label         73355 non-null  int64 \n",
      "dtypes: int64(1), object(1)\n",
      "memory usage: 1.7+ MB\n"
     ]
    }
   ],
   "source": [
    "df.dropna(inplace=True)\n",
    "df.info()"
   ]
  },
  {
   "cell_type": "code",
   "execution_count": 27,
   "id": "05a684d7",
   "metadata": {},
   "outputs": [],
   "source": [
    "df[\"text_cleaned\"] = df[\"text_cleaned\"].apply(lambda x: x.lower())\n",
    "df = df[[\"text_cleaned\", \"label\"]]"
   ]
  },
  {
   "cell_type": "code",
   "execution_count": 1,
   "id": "0a196119",
   "metadata": {},
   "outputs": [
    {
     "name": "stderr",
     "output_type": "stream",
     "text": [
      "C:\\Users\\mrizwan\\AppData\\Local\\Temp\\ipykernel_12020\\2943140048.py:2: FutureWarning: Passing a negative integer is deprecated in version 1.0 and will not be supported in future version. Instead, use None to not limit the column width.\n",
      "  pd.set_option('display.max_colwidth', -1)\n"
     ]
    }
   ],
   "source": [
    "import pandas as pd\n",
    "pd.set_option('display.max_colwidth', -1)\n",
    "df =pd.read_csv(\"Reg_final_annotation_dep.csv\")\n",
    "from sklearn.model_selection import train_test_split\n",
    "X_train, X_test, y_train, y_test = train_test_split(df[\"text_cleaned\"], df[\"label\"], random_state=2018, test_size=0.2, stratify=df['label'])\n"
   ]
  },
  {
   "cell_type": "code",
   "execution_count": 2,
   "id": "74b15675",
   "metadata": {},
   "outputs": [],
   "source": [
    "from sklearn.metrics import ConfusionMatrixDisplay\n",
    "from sklearn.metrics import confusion_matrix\n",
    "import matplotlib.pyplot as plt\n",
    "import numpy as np\n",
    "from sklearn.feature_extraction.text import TfidfVectorizer,CountVectorizer\n",
    "from sklearn.naive_bayes import MultinomialNB\n",
    "from sklearn.linear_model import LogisticRegression\n",
    "from sklearn.tree import DecisionTreeClassifier\n",
    "from sklearn import metrics\n",
    "labels = [\"Severe\", \"Moderate\", \"Mild\"]"
   ]
  },
  {
   "cell_type": "code",
   "execution_count": 3,
   "id": "38f9490e",
   "metadata": {},
   "outputs": [],
   "source": [
    "vec = CountVectorizer(stop_words='english')\n",
    "X_train_count = vec.fit_transform(X_train)\n",
    "X_test_count = vec.transform(X_test)"
   ]
  },
  {
   "cell_type": "code",
   "execution_count": 4,
   "id": "dd94d1d1",
   "metadata": {},
   "outputs": [],
   "source": [
    "vec = TfidfVectorizer(stop_words='english')\n",
    "X_train_tfidf = vec.fit_transform(X_train)\n",
    "X_test_tfidf = vec.transform(X_test)"
   ]
  },
  {
   "cell_type": "code",
   "execution_count": 6,
   "id": "fb46b1a9",
   "metadata": {},
   "outputs": [
    {
     "name": "stdout",
     "output_type": "stream",
     "text": [
      "0.7205371140344898\n",
      "[[1962  921  182]\n",
      " [ 588 4282  751]\n",
      " [ 141 1517 4327]]\n",
      "                              s     m    mi  micro-average\n",
      "accuracy                   0.88  0.74  0.82  0.81         \n",
      "f1                         0.68  0.69  0.77  0.72         \n",
      "false_discovery_rate       0.27  0.36  0.18  0.28         \n",
      "false_negative_rate        0.36  0.24  0.28  0.28         \n",
      "false_positive_rate        0.06  0.27  0.11  0.14         \n",
      "negative_predictive_value  0.91  0.83  0.82  0.86         \n",
      "positive_predictive_value  0.73  0.64  0.82  0.72         \n",
      "precision                  0.73  0.64  0.82  0.72         \n",
      "recall                     0.64  0.76  0.72  0.72         \n",
      "sensitivity                0.64  0.76  0.72  0.72         \n",
      "specificity                0.94  0.73  0.89  0.86         \n",
      "true_negative_rate         0.94  0.73  0.89  0.86         \n",
      "true_positive_rate         0.64  0.76  0.72  0.72         \n"
     ]
    },
    {
     "data": {
      "image/png": "[encoded data removed]",
      "text/plain": [
       "<Figure size 432x288 with 2 Axes>"
      ]
     },
     "metadata": {
      "needs_background": "light"
     },
     "output_type": "display_data"
    }
   ],
   "source": [
    "model = MultinomialNB()\n",
    "model.fit(X_train_count, y_train)\n",
    "print(model.score(X_test_count, y_test))\n",
    "\n",
    "y_pred=model.predict(X_test_count)\n",
    "\n",
    "cnf_matrix = metrics.confusion_matrix(y_test, y_pred)\n",
    "cnf_matrix = cnf_matrix.astype(np.int32)\n",
    "print(cnf_matrix)\n",
    "import disarray\n",
    "\n",
    "dfmetric = pd.DataFrame(cnf_matrix, index= [\"s\", \"m\", \"mi\"], columns=[\"s\", \"m\", \"mi\"])\n",
    "print(round(dfmetric.da.export_metrics(), 2))\n",
    "disp = ConfusionMatrixDisplay(confusion_matrix=cnf_matrix, display_labels=labels)\n",
    "\n",
    "disp.plot(cmap=plt.cm.Blues)\n",
    "plt.show()"
   ]
  },
  {
   "cell_type": "code",
   "execution_count": 25,
   "id": "544dddf0",
   "metadata": {},
   "outputs": [],
   "source": [
    "#fpr = dfmetric.da.false_positive_rate.mean()\n",
    "\n",
    "\n",
    "# roc curve here\n"
   ]
  },
  {
   "cell_type": "code",
   "execution_count": null,
   "id": "f5df9f96",
   "metadata": {},
   "outputs": [],
   "source": []
  },
  {
   "cell_type": "code",
   "execution_count": null,
   "id": "393a59fb",
   "metadata": {},
   "outputs": [],
   "source": []
  },
  {
   "cell_type": "code",
   "execution_count": null,
   "id": "6e7e7013",
   "metadata": {},
   "outputs": [],
   "source": []
  },
  {
   "cell_type": "code",
   "execution_count": 72,
   "id": "facf3a92",
   "metadata": {},
   "outputs": [
    {
     "name": "stdout",
     "output_type": "stream",
     "text": [
      "[[1092 1731  242]\n",
      " [ 116 4640  865]\n",
      " [  15 1483 4487]]\n",
      "                              s     m    mi  micro-average\n",
      "accuracy                   0.86  0.71  0.82  0.80         \n",
      "f1                         0.51  0.69  0.78  0.70         \n",
      "false_discovery_rate       0.11  0.41  0.20  0.30         \n",
      "false_negative_rate        0.64  0.17  0.25  0.30         \n",
      "false_positive_rate        0.01  0.36  0.13  0.15         \n",
      "negative_predictive_value  0.85  0.86  0.83  0.85         \n",
      "positive_predictive_value  0.89  0.59  0.80  0.70         \n",
      "precision                  0.89  0.59  0.80  0.70         \n",
      "recall                     0.36  0.83  0.75  0.70         \n",
      "sensitivity                0.36  0.83  0.75  0.70         \n",
      "specificity                0.99  0.64  0.87  0.85         \n",
      "true_negative_rate         0.99  0.64  0.87  0.85         \n",
      "true_positive_rate         0.36  0.83  0.75  0.70         \n"
     ]
    },
    {
     "data": {
      "image/png": "[encoded data removed]",
      "text/plain": [
       "<Figure size 432x288 with 2 Axes>"
      ]
     },
     "metadata": {
      "needs_background": "light"
     },
     "output_type": "display_data"
    }
   ],
   "source": [
    "\n",
    "model = MultinomialNB()\n",
    "model.fit(X_train_tfidf, y_train)\n",
    "model.score(X_test_tfidf, y_test)\n",
    "\n",
    "y_pred=model.predict(X_test_tfidf)\n",
    "\n",
    "cnf_matrix = metrics.confusion_matrix(y_test, y_pred)\n",
    "cnf_matrix = cnf_matrix.astype(np.int32)\n",
    "print(cnf_matrix)\n",
    "import disarray\n",
    "\n",
    "dfmetric = pd.DataFrame(cnf_matrix, index= [\"s\", \"m\", \"mi\"], columns=[\"s\", \"m\", \"mi\"])\n",
    "print(round(dfmetric.da.export_metrics(), 2))\n",
    "disp = ConfusionMatrixDisplay(confusion_matrix=cnf_matrix, display_labels=labels)\n",
    "\n",
    "disp.plot(cmap=plt.cm.Blues)\n",
    "plt.show()"
   ]
  },
  {
   "cell_type": "code",
   "execution_count": 73,
   "id": "65bd4a69",
   "metadata": {},
   "outputs": [
    {
     "name": "stderr",
     "output_type": "stream",
     "text": [
      "C:\\Users\\mrizwan\\miniconda3\\lib\\site-packages\\sklearn\\linear_model\\_logistic.py:763: ConvergenceWarning: lbfgs failed to converge (status=1):\n",
      "STOP: TOTAL NO. of ITERATIONS REACHED LIMIT.\n",
      "\n",
      "Increase the number of iterations (max_iter) or scale the data as shown in:\n",
      "    https://scikit-learn.org/stable/modules/preprocessing.html\n",
      "Please also refer to the documentation for alternative solver options:\n",
      "    https://scikit-learn.org/stable/modules/linear_model.html#logistic-regression\n",
      "  n_iter_i = _check_optimize_result(\n"
     ]
    },
    {
     "name": "stdout",
     "output_type": "stream",
     "text": [
      "0.8007634108104423\n",
      "[[2318  537  210]\n",
      " [ 513 4206  902]\n",
      " [ 105  656 5224]]\n",
      "                              s     m    mi  micro-average\n",
      "accuracy                   0.91  0.82  0.87  0.87         \n",
      "f1                         0.77  0.76  0.85  0.80         \n",
      "false_discovery_rate       0.21  0.22  0.18  0.20         \n",
      "false_negative_rate        0.24  0.25  0.13  0.20         \n",
      "false_positive_rate        0.05  0.13  0.13  0.10         \n",
      "negative_predictive_value  0.94  0.85  0.91  0.90         \n",
      "positive_predictive_value  0.79  0.78  0.82  0.80         \n",
      "precision                  0.79  0.78  0.82  0.80         \n",
      "recall                     0.76  0.75  0.87  0.80         \n",
      "sensitivity                0.76  0.75  0.87  0.80         \n",
      "specificity                0.95  0.87  0.87  0.90         \n",
      "true_negative_rate         0.95  0.87  0.87  0.90         \n",
      "true_positive_rate         0.76  0.75  0.87  0.80         \n"
     ]
    },
    {
     "data": {
      "image/png": "[encoded data removed]",
      "text/plain": [
       "<Figure size 432x288 with 2 Axes>"
      ]
     },
     "metadata": {
      "needs_background": "light"
     },
     "output_type": "display_data"
    }
   ],
   "source": [
    "\n",
    "model = LogisticRegression()\n",
    "model.fit(X_train_count, y_train)\n",
    "print(model.score(X_test_count, y_test))\n",
    "\n",
    "y_pred=model.predict(X_test_count)\n",
    "\n",
    "cnf_matrix = metrics.confusion_matrix(y_test, y_pred)\n",
    "cnf_matrix = cnf_matrix.astype(np.int32)\n",
    "print(cnf_matrix)\n",
    "import disarray\n",
    "\n",
    "dfmetric = pd.DataFrame(cnf_matrix, index= [\"s\", \"m\", \"mi\"], columns=[\"s\", \"m\", \"mi\"])\n",
    "print(round(dfmetric.da.export_metrics(), 2))\n",
    "disp = ConfusionMatrixDisplay(confusion_matrix=cnf_matrix, display_labels=labels)\n",
    "\n",
    "disp.plot(cmap=plt.cm.Blues)\n",
    "plt.show()"
   ]
  },
  {
   "cell_type": "code",
   "execution_count": 75,
   "id": "f56780ac",
   "metadata": {},
   "outputs": [
    {
     "name": "stderr",
     "output_type": "stream",
     "text": [
      "C:\\Users\\mrizwan\\miniconda3\\lib\\site-packages\\sklearn\\linear_model\\_logistic.py:763: ConvergenceWarning: lbfgs failed to converge (status=1):\n",
      "STOP: TOTAL NO. of ITERATIONS REACHED LIMIT.\n",
      "\n",
      "Increase the number of iterations (max_iter) or scale the data as shown in:\n",
      "    https://scikit-learn.org/stable/modules/preprocessing.html\n",
      "Please also refer to the documentation for alternative solver options:\n",
      "    https://scikit-learn.org/stable/modules/linear_model.html#logistic-regression\n",
      "  n_iter_i = _check_optimize_result(\n"
     ]
    },
    {
     "name": "stdout",
     "output_type": "stream",
     "text": [
      "[[2177  702  186]\n",
      " [ 442 4284  895]\n",
      " [  73  765 5147]]\n",
      "                              s     m    mi  micro-average\n",
      "accuracy                   0.90  0.81  0.87  0.86         \n",
      "f1                         0.76  0.75  0.84  0.79         \n",
      "false_discovery_rate       0.19  0.26  0.17  0.21         \n",
      "false_negative_rate        0.29  0.24  0.14  0.21         \n",
      "false_positive_rate        0.04  0.16  0.12  0.10         \n",
      "negative_predictive_value  0.93  0.85  0.90  0.90         \n",
      "positive_predictive_value  0.81  0.74  0.83  0.79         \n",
      "precision                  0.81  0.74  0.83  0.79         \n",
      "recall                     0.71  0.76  0.86  0.79         \n",
      "sensitivity                0.71  0.76  0.86  0.79         \n",
      "specificity                0.96  0.84  0.88  0.90         \n",
      "true_negative_rate         0.96  0.84  0.88  0.90         \n",
      "true_positive_rate         0.71  0.76  0.86  0.79         \n"
     ]
    },
    {
     "data": {
      "image/png": "[encoded data removed]",
      "text/plain": [
       "<Figure size 432x288 with 2 Axes>"
      ]
     },
     "metadata": {
      "needs_background": "light"
     },
     "output_type": "display_data"
    }
   ],
   "source": [
    "model = LogisticRegression()\n",
    "model.fit(X_train_tfidf, y_train)\n",
    "model.score(X_test_tfidf, y_test)\n",
    "\n",
    "y_pred=model.predict(X_test_tfidf)\n",
    "\n",
    "cnf_matrix = metrics.confusion_matrix(y_test, y_pred)\n",
    "cnf_matrix = cnf_matrix.astype(np.int32)\n",
    "print(cnf_matrix)\n",
    "import disarray\n",
    "\n",
    "dfmetric = pd.DataFrame(cnf_matrix, index= [\"s\", \"m\", \"mi\"], columns=[\"s\", \"m\", \"mi\"])\n",
    "print(round(dfmetric.da.export_metrics(), 2))\n",
    "disp = ConfusionMatrixDisplay(confusion_matrix=cnf_matrix, display_labels=labels)\n",
    "\n",
    "disp.plot(cmap=plt.cm.Blues)\n",
    "plt.show()"
   ]
  },
  {
   "cell_type": "code",
   "execution_count": 76,
   "id": "4ff69f10",
   "metadata": {},
   "outputs": [
    {
     "name": "stdout",
     "output_type": "stream",
     "text": [
      "0.7392134142185264\n",
      "[[2186  658  221]\n",
      " [ 731 3765 1125]\n",
      " [ 201  890 4894]]\n",
      "                              s     m    mi  micro-average\n",
      "accuracy                   0.88  0.77  0.83  0.83         \n",
      "f1                         0.71  0.69  0.80  0.74         \n",
      "false_discovery_rate       0.30  0.29  0.22  0.26         \n",
      "false_negative_rate        0.29  0.33  0.18  0.26         \n",
      "false_positive_rate        0.08  0.17  0.15  0.13         \n",
      "negative_predictive_value  0.92  0.80  0.87  0.87         \n",
      "positive_predictive_value  0.70  0.71  0.78  0.74         \n",
      "precision                  0.70  0.71  0.78  0.74         \n",
      "recall                     0.71  0.67  0.82  0.74         \n",
      "sensitivity                0.71  0.67  0.82  0.74         \n",
      "specificity                0.92  0.83  0.85  0.87         \n",
      "true_negative_rate         0.92  0.83  0.85  0.87         \n",
      "true_positive_rate         0.71  0.67  0.82  0.74         \n"
     ]
    },
    {
     "data": {
      "image/png": "[encoded data removed]",
      "text/plain": [
       "<Figure size 432x288 with 2 Axes>"
      ]
     },
     "metadata": {
      "needs_background": "light"
     },
     "output_type": "display_data"
    }
   ],
   "source": [
    "\n",
    "model = DecisionTreeClassifier()\n",
    "model.fit(X_train_count, y_train)\n",
    "print(model.score(X_test_count, y_test))\n",
    "\n",
    "y_pred=model.predict(X_test_count)\n",
    "\n",
    "cnf_matrix = metrics.confusion_matrix(y_test, y_pred)\n",
    "cnf_matrix = cnf_matrix.astype(np.int32)\n",
    "print(cnf_matrix)\n",
    "import disarray\n",
    "\n",
    "dfmetric = pd.DataFrame(cnf_matrix, index= [\"s\", \"m\", \"mi\"], columns=[\"s\", \"m\", \"mi\"])\n",
    "print(round(dfmetric.da.export_metrics(), 2))\n",
    "disp = ConfusionMatrixDisplay(confusion_matrix=cnf_matrix, display_labels=labels)\n",
    "\n",
    "disp.plot(cmap=plt.cm.Blues)\n",
    "plt.show()"
   ]
  },
  {
   "cell_type": "code",
   "execution_count": 77,
   "id": "585a6eeb",
   "metadata": {},
   "outputs": [
    {
     "name": "stdout",
     "output_type": "stream",
     "text": [
      "[[2110  681  274]\n",
      " [ 694 3724 1203]\n",
      " [ 154  897 4934]]\n",
      "                              s     m    mi  micro-average\n",
      "accuracy                   0.88  0.76  0.83  0.82         \n",
      "f1                         0.70  0.68  0.80  0.73         \n",
      "false_discovery_rate       0.29  0.30  0.23  0.27         \n",
      "false_negative_rate        0.31  0.34  0.18  0.27         \n",
      "false_positive_rate        0.07  0.17  0.17  0.13         \n",
      "negative_predictive_value  0.92  0.80  0.87  0.87         \n",
      "positive_predictive_value  0.71  0.70  0.77  0.73         \n",
      "precision                  0.71  0.70  0.77  0.73         \n",
      "recall                     0.69  0.66  0.82  0.73         \n",
      "sensitivity                0.69  0.66  0.82  0.73         \n",
      "specificity                0.93  0.83  0.83  0.87         \n",
      "true_negative_rate         0.93  0.83  0.83  0.87         \n",
      "true_positive_rate         0.69  0.66  0.82  0.73         \n"
     ]
    },
    {
     "data": {
      "image/png": "[encoded data removed]",
      "text/plain": [
       "<Figure size 432x288 with 2 Axes>"
      ]
     },
     "metadata": {
      "needs_background": "light"
     },
     "output_type": "display_data"
    }
   ],
   "source": [
    "\n",
    "model = DecisionTreeClassifier()\n",
    "model.fit(X_train_tfidf, y_train)\n",
    "model.score(X_test_tfidf, y_test)\n",
    "\n",
    "y_pred=model.predict(X_test_tfidf)\n",
    "\n",
    "cnf_matrix = metrics.confusion_matrix(y_test, y_pred)\n",
    "cnf_matrix = cnf_matrix.astype(np.int32)\n",
    "print(cnf_matrix)\n",
    "import disarray\n",
    "\n",
    "dfmetric = pd.DataFrame(cnf_matrix, index= [\"s\", \"m\", \"mi\"], columns=[\"s\", \"m\", \"mi\"])\n",
    "print(round(dfmetric.da.export_metrics(), 2))\n",
    "disp = ConfusionMatrixDisplay(confusion_matrix=cnf_matrix, display_labels=labels)\n",
    "\n",
    "disp.plot(cmap=plt.cm.Blues)\n",
    "plt.show()"
   ]
  },
  {
   "cell_type": "code",
   "execution_count": 80,
   "id": "10e3a80e",
   "metadata": {},
   "outputs": [],
   "source": [
    "df.to_csv(\"Reg_final_annotation_dep.csv\")"
   ]
  }
 ],
 "metadata": {
  "kernelspec": {
   "display_name": "Python 3 (ipykernel)",
   "language": "python",
   "name": "python3"
  },
  "language_info": {
   "codemirror_mode": {
    "name": "ipython",
    "version": 3
   },
   "file_extension": ".py",
   "mimetype": "text/x-python",
   "name": "python",
   "nbconvert_exporter": "python",
   "pygments_lexer": "ipython3",
   "version": "3.9.7"
  }
 },
 "nbformat": 4,
 "nbformat_minor": 5
}
