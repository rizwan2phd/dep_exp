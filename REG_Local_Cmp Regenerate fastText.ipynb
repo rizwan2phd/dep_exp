{
 "cells": [
  {
   "cell_type": "code",
   "execution_count": 8,
   "id": "fbd091b0",
   "metadata": {},
   "outputs": [],
   "source": [
    "import pandas as pd\n",
    "import ktrain\n",
    "from ktrain import text\n",
    "from sklearn.metrics import ConfusionMatrixDisplay\n",
    "from sklearn.metrics import confusion_matrix\n",
    "import matplotlib.pyplot as plt\n",
    "import numpy as np\n",
    "import disarray\n",
    "\n",
    "%reload_ext autoreload\n",
    "%autoreload 2\n",
    "%matplotlib inline\n",
    "import os\n",
    "os.environ[\"CUDA_DEVICE_ORDER\"]=\"PCI_BUS_ID\";\n",
    "os.environ[\"CUDA_VISIBLE_DEVICES\"]=\"0\"; "
   ]
  },
  {
   "cell_type": "code",
   "execution_count": null,
   "id": "9678c064",
   "metadata": {},
   "outputs": [],
   "source": []
  },
  {
   "cell_type": "code",
   "execution_count": 26,
   "id": "56d8b2b6",
   "metadata": {},
   "outputs": [
    {
     "name": "stdout",
     "output_type": "stream",
     "text": [
      "detected encoding: utf-8 (if wrong, set manually)\n",
      "['severe', 'moderate', 'mild']\n",
      "   severe  moderate  mild\n",
      "0  0.0     1.0       0.0 \n",
      "1  0.0     1.0       0.0 \n",
      "2  0.0     1.0       0.0 \n",
      "3  0.0     0.0       1.0 \n",
      "4  0.0     1.0       0.0 \n",
      "['severe', 'moderate', 'mild']\n",
      "   severe  moderate  mild\n",
      "0  0.0     0.0       1.0 \n",
      "1  0.0     1.0       0.0 \n",
      "2  0.0     0.0       1.0 \n",
      "3  0.0     0.0       1.0 \n",
      "4  0.0     1.0       0.0 \n",
      "language: en\n",
      "Word Counts: 33286\n",
      "Nrows: 58684\n",
      "58684 train sequences\n",
      "train sequence lengths:\n",
      "\tmean : 21\n",
      "\t95percentile : 43\n",
      "\t99percentile : 49\n",
      "x_train shape: (58684,70)\n",
      "y_train shape: (58684, 3)\n",
      "Is Multi-Label? False\n",
      "14671 test sequences\n",
      "test sequence lengths:\n",
      "\tmean : 21\n",
      "\t95percentile : 42\n",
      "\t99percentile : 48\n",
      "x_test shape: (14671,70)\n",
      "y_test shape: (14671, 3)\n"
     ]
    }
   ],
   "source": [
    "DATA_PATH = 'Reg_train_dep_prepro_one_encode.csv'\n",
    "NUM_WORDS = 50000\n",
    "MAXLEN = 70\n",
    "(x_train, y_train), (x_test, y_test), preproc = text.texts_from_csv(DATA_PATH,\n",
    "                      'text_cleaned',\n",
    "                      label_columns = [\"severe\", \"moderate\", \"mild\"],\n",
    "                      val_filepath=\"Reg_test_dep_prepro_one_encode.csv\", # if None, 10% of data will be used for validation\n",
    "                      max_features=NUM_WORDS, maxlen=MAXLEN,\n",
    "                      ngram_range=1)"
   ]
  },
  {
   "cell_type": "code",
   "execution_count": 27,
   "id": "53d8f831",
   "metadata": {},
   "outputs": [
    {
     "name": "stdout",
     "output_type": "stream",
     "text": [
      "Is Multi-Label? False\n",
      "compiling word ID features...\n",
      "maxlen is 70\n",
      "done.\n"
     ]
    }
   ],
   "source": [
    "model = text.text_classifier('fasttext', (x_train, y_train), preproc=preproc)\n",
    "learner = ktrain.get_learner(model, train_data=(x_train, y_train), val_data=(x_test, y_test))"
   ]
  },
  {
   "cell_type": "code",
   "execution_count": 28,
   "id": "1143bbd9",
   "metadata": {},
   "outputs": [
    {
     "name": "stdout",
     "output_type": "stream",
     "text": [
      "simulating training for different learning rates... this may take a few moments...\n",
      "Epoch 1/1024\n",
      "1834/1834 [==============================] - 51s 27ms/step - loss: 1.2367 - accuracy: 0.4040\n",
      "Epoch 2/1024\n",
      "1834/1834 [==============================] - 1s 258us/step - loss: 2.8614 - accuracy: 0.3524\n",
      "\n",
      "\n",
      "done.\n",
      "Please invoke the Learner.lr_plot() method to visually inspect the loss plot to help identify the maximal learning rate associated with falling loss.\n"
     ]
    },
    {
     "data": {
      "image/png": "[encoded data removed]",
      "text/plain": [
       "<Figure size 432x288 with 1 Axes>"
      ]
     },
     "metadata": {
      "needs_background": "light"
     },
     "output_type": "display_data"
    }
   ],
   "source": [
    "learner.lr_find()\n",
    "learner.lr_plot()"
   ]
  },
  {
   "cell_type": "code",
   "execution_count": 29,
   "id": "b7c44ccd",
   "metadata": {},
   "outputs": [
    {
     "name": "stdout",
     "output_type": "stream",
     "text": [
      "early_stopping automatically enabled at patience=5\n",
      "reduce_on_plateau automatically enabled at patience=2\n",
      "\n",
      "\n",
      "begin training using triangular learning rate policy with max lr of 0.01...\n",
      "Epoch 1/1024\n",
      "1834/1834 [==============================] - 60s 32ms/step - loss: 0.7471 - accuracy: 0.6619 - val_loss: 0.4837 - val_accuracy: 0.8060\n",
      "Epoch 2/1024\n",
      "1834/1834 [==============================] - 54s 29ms/step - loss: 0.5362 - accuracy: 0.7791 - val_loss: 0.4290 - val_accuracy: 0.8325\n",
      "Epoch 3/1024\n",
      "1834/1834 [==============================] - 54s 29ms/step - loss: 0.4754 - accuracy: 0.8086 - val_loss: 0.4162 - val_accuracy: 0.8399\n",
      "Epoch 4/1024\n",
      "1834/1834 [==============================] - 57s 31ms/step - loss: 0.4391 - accuracy: 0.8282 - val_loss: 0.4098 - val_accuracy: 0.8389\n",
      "Epoch 5/1024\n",
      "1834/1834 [==============================] - 54s 30ms/step - loss: 0.4080 - accuracy: 0.8440 - val_loss: 0.4060 - val_accuracy: 0.8434\n",
      "Epoch 6/1024\n",
      "1834/1834 [==============================] - 55s 30ms/step - loss: 0.3851 - accuracy: 0.8524 - val_loss: 0.4125 - val_accuracy: 0.8464\n",
      "Epoch 7/1024\n",
      "1834/1834 [==============================] - 55s 30ms/step - loss: 0.3651 - accuracy: 0.8629 - val_loss: 0.4037 - val_accuracy: 0.8460\n",
      "Epoch 8/1024\n",
      "1834/1834 [==============================] - 56s 31ms/step - loss: 0.3520 - accuracy: 0.8700 - val_loss: 0.4036 - val_accuracy: 0.8444\n",
      "Epoch 9/1024\n",
      "1834/1834 [==============================] - 55s 30ms/step - loss: 0.3389 - accuracy: 0.8732 - val_loss: 0.4126 - val_accuracy: 0.8471\n",
      "Epoch 10/1024\n",
      "1834/1834 [==============================] - ETA: 0s - loss: 0.3220 - accuracy: 0.8807\n",
      "Epoch 00010: Reducing Max LR on Plateau: new max lr will be 0.005 (if not early_stopping).\n",
      "1834/1834 [==============================] - 56s 30ms/step - loss: 0.3220 - accuracy: 0.8807 - val_loss: 0.4206 - val_accuracy: 0.8434\n",
      "Epoch 11/1024\n",
      "1834/1834 [==============================] - 59s 32ms/step - loss: 0.2854 - accuracy: 0.8947 - val_loss: 0.4214 - val_accuracy: 0.8439\n",
      "Epoch 12/1024\n",
      "1834/1834 [==============================] - ETA: 0s - loss: 0.2711 - accuracy: 0.9008\n",
      "Epoch 00012: Reducing Max LR on Plateau: new max lr will be 0.0025 (if not early_stopping).\n",
      "1834/1834 [==============================] - 57s 31ms/step - loss: 0.2711 - accuracy: 0.9008 - val_loss: 0.4271 - val_accuracy: 0.8436\n",
      "Epoch 13/1024\n",
      "1834/1834 [==============================] - ETA: 0s - loss: 0.2493 - accuracy: 0.9101Restoring model weights from the end of the best epoch: 8.\n",
      "1834/1834 [==============================] - 61s 33ms/step - loss: 0.2493 - accuracy: 0.9101 - val_loss: 0.4304 - val_accuracy: 0.8466\n",
      "Epoch 13: early stopping\n",
      "Weights from best epoch have been loaded into model.\n"
     ]
    },
    {
     "data": {
      "text/plain": [
       "<keras.callbacks.History at 0x1d61dd4a760>"
      ]
     },
     "execution_count": 29,
     "metadata": {},
     "output_type": "execute_result"
    }
   ],
   "source": [
    "learner.autofit(0.01)"
   ]
  },
  {
   "cell_type": "code",
   "execution_count": 30,
   "id": "3e19a0b3",
   "metadata": {},
   "outputs": [
    {
     "name": "stdout",
     "output_type": "stream",
     "text": [
      "              precision    recall  f1-score   support\n",
      "\n",
      "      severe       0.87      0.78      0.82      3065\n",
      "    moderate       0.79      0.86      0.82      5621\n",
      "        mild       0.89      0.87      0.88      5985\n",
      "\n",
      "    accuracy                           0.84     14671\n",
      "   macro avg       0.85      0.83      0.84     14671\n",
      "weighted avg       0.85      0.84      0.84     14671\n",
      "\n"
     ]
    },
    {
     "data": {
      "text/plain": [
       "array([[2384,  562,  119],\n",
       "       [ 283, 4819,  519],\n",
       "       [  71,  729, 5185]], dtype=int64)"
      ]
     },
     "execution_count": 30,
     "metadata": {},
     "output_type": "execute_result"
    }
   ],
   "source": [
    "learner.validate(class_names=preproc.get_classes())"
   ]
  },
  {
   "cell_type": "code",
   "execution_count": 31,
   "id": "027633a1",
   "metadata": {},
   "outputs": [
    {
     "data": {
      "image/png": "[encoded data removed]",
      "text/plain": [
       "<Figure size 432x288 with 2 Axes>"
      ]
     },
     "metadata": {
      "needs_background": "light"
     },
     "output_type": "display_data"
    }
   ],
   "source": [
    "labels = [\"Severe\", \"Moderate\", \"Mild\"]\n",
    "\n",
    "cm = np.array([[2384,  562,  119],\n",
    "       [ 283, 4819,  519],\n",
    "       [  71,  729, 5185]])\n",
    "disp = ConfusionMatrixDisplay(confusion_matrix=cm, display_labels=labels)\n",
    "\n",
    "disp.plot(cmap=plt.cm.Blues)\n",
    "plt.show()"
   ]
  },
  {
   "cell_type": "code",
   "execution_count": 33,
   "id": "ad8df9d8",
   "metadata": {},
   "outputs": [
    {
     "data": {
      "text/html": [
       "<div>\n",
       "<style scoped>\n",
       "    .dataframe tbody tr th:only-of-type {\n",
       "        vertical-align: middle;\n",
       "    }\n",
       "\n",
       "    .dataframe tbody tr th {\n",
       "        vertical-align: top;\n",
       "    }\n",
       "\n",
       "    .dataframe thead th {\n",
       "        text-align: right;\n",
       "    }\n",
       "</style>\n",
       "<table border=\"1\" class=\"dataframe\">\n",
       "  <thead>\n",
       "    <tr style=\"text-align: right;\">\n",
       "      <th></th>\n",
       "      <th>s</th>\n",
       "      <th>m</th>\n",
       "      <th>mi</th>\n",
       "      <th>micro-average</th>\n",
       "    </tr>\n",
       "  </thead>\n",
       "  <tbody>\n",
       "    <tr>\n",
       "      <th>accuracy</th>\n",
       "      <td>0.929</td>\n",
       "      <td>0.857</td>\n",
       "      <td>0.902</td>\n",
       "      <td>0.896</td>\n",
       "    </tr>\n",
       "    <tr>\n",
       "      <th>f1</th>\n",
       "      <td>0.822</td>\n",
       "      <td>0.822</td>\n",
       "      <td>0.878</td>\n",
       "      <td>0.844</td>\n",
       "    </tr>\n",
       "    <tr>\n",
       "      <th>false_discovery_rate</th>\n",
       "      <td>0.129</td>\n",
       "      <td>0.211</td>\n",
       "      <td>0.110</td>\n",
       "      <td>0.156</td>\n",
       "    </tr>\n",
       "    <tr>\n",
       "      <th>false_negative_rate</th>\n",
       "      <td>0.222</td>\n",
       "      <td>0.143</td>\n",
       "      <td>0.134</td>\n",
       "      <td>0.156</td>\n",
       "    </tr>\n",
       "    <tr>\n",
       "      <th>false_positive_rate</th>\n",
       "      <td>0.031</td>\n",
       "      <td>0.143</td>\n",
       "      <td>0.073</td>\n",
       "      <td>0.078</td>\n",
       "    </tr>\n",
       "    <tr>\n",
       "      <th>negative_predictive_value</th>\n",
       "      <td>0.943</td>\n",
       "      <td>0.906</td>\n",
       "      <td>0.910</td>\n",
       "      <td>0.922</td>\n",
       "    </tr>\n",
       "    <tr>\n",
       "      <th>positive_predictive_value</th>\n",
       "      <td>0.871</td>\n",
       "      <td>0.789</td>\n",
       "      <td>0.890</td>\n",
       "      <td>0.844</td>\n",
       "    </tr>\n",
       "    <tr>\n",
       "      <th>precision</th>\n",
       "      <td>0.871</td>\n",
       "      <td>0.789</td>\n",
       "      <td>0.890</td>\n",
       "      <td>0.844</td>\n",
       "    </tr>\n",
       "    <tr>\n",
       "      <th>recall</th>\n",
       "      <td>0.778</td>\n",
       "      <td>0.857</td>\n",
       "      <td>0.866</td>\n",
       "      <td>0.844</td>\n",
       "    </tr>\n",
       "    <tr>\n",
       "      <th>sensitivity</th>\n",
       "      <td>0.778</td>\n",
       "      <td>0.857</td>\n",
       "      <td>0.866</td>\n",
       "      <td>0.844</td>\n",
       "    </tr>\n",
       "    <tr>\n",
       "      <th>specificity</th>\n",
       "      <td>0.969</td>\n",
       "      <td>0.857</td>\n",
       "      <td>0.927</td>\n",
       "      <td>0.922</td>\n",
       "    </tr>\n",
       "    <tr>\n",
       "      <th>true_negative_rate</th>\n",
       "      <td>0.969</td>\n",
       "      <td>0.857</td>\n",
       "      <td>0.927</td>\n",
       "      <td>0.922</td>\n",
       "    </tr>\n",
       "    <tr>\n",
       "      <th>true_positive_rate</th>\n",
       "      <td>0.778</td>\n",
       "      <td>0.857</td>\n",
       "      <td>0.866</td>\n",
       "      <td>0.844</td>\n",
       "    </tr>\n",
       "  </tbody>\n",
       "</table>\n",
       "</div>"
      ],
      "text/plain": [
       "                               s      m     mi  micro-average\n",
       "accuracy                   0.929  0.857  0.902  0.896        \n",
       "f1                         0.822  0.822  0.878  0.844        \n",
       "false_discovery_rate       0.129  0.211  0.110  0.156        \n",
       "false_negative_rate        0.222  0.143  0.134  0.156        \n",
       "false_positive_rate        0.031  0.143  0.073  0.078        \n",
       "negative_predictive_value  0.943  0.906  0.910  0.922        \n",
       "positive_predictive_value  0.871  0.789  0.890  0.844        \n",
       "precision                  0.871  0.789  0.890  0.844        \n",
       "recall                     0.778  0.857  0.866  0.844        \n",
       "sensitivity                0.778  0.857  0.866  0.844        \n",
       "specificity                0.969  0.857  0.927  0.922        \n",
       "true_negative_rate         0.969  0.857  0.927  0.922        \n",
       "true_positive_rate         0.778  0.857  0.866  0.844        "
      ]
     },
     "execution_count": 33,
     "metadata": {},
     "output_type": "execute_result"
    }
   ],
   "source": [
    "\n",
    "dfmetric = pd.DataFrame(cm, index= [\"s\", \"m\", \"mi\"], columns=[\"s\", \"m\", \"mi\"])\n",
    "round(dfmetric.da.export_metrics(), 3)"
   ]
  },
  {
   "cell_type": "code",
   "execution_count": 34,
   "id": "628208ce",
   "metadata": {},
   "outputs": [
    {
     "data": {
      "image/png": "[encoded data removed]",
      "text/plain": [
       "<Figure size 432x288 with 1 Axes>"
      ]
     },
     "metadata": {
      "needs_background": "light"
     },
     "output_type": "display_data"
    }
   ],
   "source": [
    "learner.plot(\"loss\")"
   ]
  },
  {
   "cell_type": "code",
   "execution_count": 35,
   "id": "91b19709",
   "metadata": {},
   "outputs": [
    {
     "data": {
      "image/png": "[encoded data removed]",
      "text/plain": [
       "<Figure size 432x288 with 1 Axes>"
      ]
     },
     "metadata": {
      "needs_background": "light"
     },
     "output_type": "display_data"
    }
   ],
   "source": [
    "learner.plot(\"accuracy\")"
   ]
  },
  {
   "cell_type": "code",
   "execution_count": 25,
   "id": "ca9d096a",
   "metadata": {},
   "outputs": [
    {
     "name": "stdout",
     "output_type": "stream",
     "text": [
      "Model: \"sequential\"\n",
      "_________________________________________________________________\n",
      " Layer (type)                Output Shape              Param #   \n",
      "=================================================================\n",
      " embedding (Embedding)       (None, 100, 64)           3200000   \n",
      "                                                                 \n",
      " spatial_dropout1d (SpatialD  (None, 100, 64)          0         \n",
      " ropout1D)                                                       \n",
      "                                                                 \n",
      " global_max_pooling1d (Globa  (None, 64)               0         \n",
      " lMaxPooling1D)                                                  \n",
      "                                                                 \n",
      " batch_normalization (BatchN  (None, 64)               256       \n",
      " ormalization)                                                   \n",
      "                                                                 \n",
      " dense (Dense)               (None, 64)                4160      \n",
      "                                                                 \n",
      " dropout (Dropout)           (None, 64)                0         \n",
      "                                                                 \n",
      " dense_1 (Dense)             (None, 3)                 195       \n",
      "                                                                 \n",
      "=================================================================\n",
      "Total params: 3,204,611\n",
      "Trainable params: 3,204,483\n",
      "Non-trainable params: 128\n",
      "_________________________________________________________________\n"
     ]
    }
   ],
   "source": [
    "model.summary()"
   ]
  },
  {
   "cell_type": "code",
   "execution_count": 2,
   "id": "4bbc441d",
   "metadata": {},
   "outputs": [],
   "source": [
    "\n",
    "df[[\"text_cleaned\", \"label\"]].to_csv(\"Reg_final_annotation_dep.csv\", header=True, index=False, encoding='utf-8')"
   ]
  }
 ],
 "metadata": {
  "kernelspec": {
   "display_name": "Python 3 (ipykernel)",
   "language": "python",
   "name": "python3"
  },
  "language_info": {
   "codemirror_mode": {
    "name": "ipython",
    "version": 3
   },
   "file_extension": ".py",
   "mimetype": "text/x-python",
   "name": "python",
   "nbconvert_exporter": "python",
   "pygments_lexer": "ipython3",
   "version": "3.9.7"
  }
 },
 "nbformat": 4,
 "nbformat_minor": 5
}
